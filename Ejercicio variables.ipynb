{
 "cells": [
  {
   "cell_type": "markdown",
   "metadata": {},
   "source": [
    "<div style=\"text-align: center;\">\n",
    "  <img src=\"https://github.com/Hack-io-Data/Imagenes/blob/main/01-LogosHackio/logo_celeste@4x.png?raw=true\" alt=\"logo hack(io)\" />\n",
    "</div>"
   ]
  },
  {
   "cell_type": "markdown",
   "metadata": {},
   "source": [
    "## Tipos de datos\n",
    "\n",
    "Es esencial comprender los distintos tipos de datos en Python, como enteros, flotantes, cadenas de texto, booleanos, listas, tuplas y diccionarios. Este conocimiento es fundamental para el diseño de algoritmos, ya que los tipos de datos determinan cómo se almacenan y procesan los datos en la memoria.\n",
    "\n",
    "En esta batería de ejercicios, exploraremos los tipos de datos en Python y cómo utilizarlos eficientemente. Desde los conceptos básicos hasta los más avanzados, esta serie de ejercicios está diseñada para mejorar las habilidades de programación en Python y profundizar la comprensión de los tipos de datos, esencial para desarrollar aplicaciones de calidad y eficientes."
   ]
  },
  {
   "cell_type": "markdown",
   "metadata": {},
   "source": [
    "### Ejercicio 1: Operaciones aritméticas con números complejos\n",
    "\n",
    "1-Declara dos variables `numero1` y `numero2` y asigna a ellas valores numéricos complejos.\n",
    "\n",
    "2-Realiza las siguientes operaciones: suma, resta, multiplicación y división.\n",
    "\n",
    "3-Imprime en pantalla el resultado de cada operación utilizando la función `print()`."
   ]
  },
  {
   "cell_type": "code",
   "execution_count": 1,
   "metadata": {},
   "outputs": [
    {
     "name": "stdout",
     "output_type": "stream",
     "text": [
      "La suma de las variables numero1 y numero2 es (4+7j)\n",
      "La resta de las variables numero1 y numero2 es (-2-3j)\n",
      "La multiplicación de las variables numero1 y numero2 es (-7+11j)\n",
      "La división de las variables numero1 y numero2 es (0.3823529411764706+0.029411764705882346j)\n"
     ]
    }
   ],
   "source": [
    "# definimos el número complejo numero1 que tendrá el valor de 1 + 2j #\n",
    "numero1 = 1 + 2j\n",
    "\n",
    "#definimos el número complejo numero2 que tendrá el valor de 3 + 5j #\n",
    "numero2 = 3 + 5j \n",
    "\n",
    "#creamos un print con la suma de ambas variables #\n",
    "print('La suma de las variables numero1 y numero2 es',numero1 + numero2)\n",
    "\n",
    "#creamos un print con la resta de ambas variables #\n",
    "print('La resta de las variables numero1 y numero2 es',numero1 - numero2)\n",
    "\n",
    "\n",
    "#creamos un print con la multiplicación de ambas variables #\n",
    "print('La multiplicación de las variables numero1 y numero2 es',numero1 * numero2)\n",
    "\n",
    "\n",
    "#creamos un print con la división de ambas variables #\n",
    "print('La división de las variables numero1 y numero2 es',numero1 / numero2)\n"
   ]
  },
  {
   "cell_type": "markdown",
   "metadata": {},
   "source": [
    "### Ejercicio 2: Formateo de cadenas de texto\n",
    "\n",
    "1-Declara una variable `nombre` y asigna a ella el valor 'Juan'.\n",
    "\n",
    "2-Declara una variable `edad` y asigna a ella el valor 25.\n",
    "\n",
    "3- Declara una variable llamada `peso` y asigna a ella el valor 75.5.\n",
    "\n",
    "4-Declara una variable llamada `altura` y asigna a ella el valor 1.75.\n",
    "\n",
    "5-Imprime en pantalla el valor de cada variable utilizando la función print().\n",
    "\n",
    "6-Utiliza el formateo de cadenas de texto para imprimir en pantalla un mensaje que diga: `Hola me llamo Juan, tengo 25 años, peso 75.5 kg y mido 1.75 m`."
   ]
  },
  {
   "cell_type": "code",
   "execution_count": 3,
   "metadata": {},
   "outputs": [
    {
     "name": "stdout",
     "output_type": "stream",
     "text": [
      "Juan\n",
      "25\n",
      "75.5\n",
      "1.75\n",
      "Hola me llamo Juan , tengo 25 años , peso 75.5 y mido 1.75\n"
     ]
    }
   ],
   "source": [
    "# Declaramos las variables nombre, edad, peso y altura #\n",
    "nombre = \"Juan\"\n",
    "edad = 25\n",
    "peso = 75.5\n",
    "altura = 1.75\n",
    "\n",
    "# Imprimimos en pantalla el valor de cada variable #\n",
    "print(nombre)\n",
    "print(edad)\n",
    "print(peso)\n",
    "print(altura)\n",
    "\n",
    "# Utilizamos el formateo de texto para que nos imprima la frase correspondiente # \n",
    "print(\"Hola me llamo\", nombre, \", tengo\", edad, \"años\", \", peso\", peso, \"y mido\", altura)\n"
   ]
  },
  {
   "cell_type": "markdown",
   "metadata": {},
   "source": [
    "### Ejercicio 3: Conversión de cadenas de texto a números\n",
    "\n",
    "\n",
    "1-Declara una variable `cadena` y asigna a ella el valor '10'.\n",
    "\n",
    "2-Utiliza la función type() para obtener el tipo de dato de `cadena` y asigna el resultado a una variable llamada `tipo`.\n",
    "\n",
    "3- Imprime en pantalla el valor de `tipo` utilizando la función print().\n",
    "\n",
    "4-Convierte el valor de `cadena` a entero y asigna el resultado a una variable llamada `numero`.\n",
    "\n",
    "5-Realiza la operación de incremento en `numero` y asigna el resultado a la misma variable.\n"
   ]
  },
  {
   "cell_type": "code",
   "execution_count": 9,
   "metadata": {},
   "outputs": [
    {
     "name": "stdout",
     "output_type": "stream",
     "text": [
      "La variable cadena es de tipo <class 'str'>\n",
      "La variable numero es de tipo <class 'int'>\n",
      "11\n"
     ]
    }
   ],
   "source": [
    "# Declaramos la variable cadena y le asignamos el valor correspondiente, que será de tipo string (str) #\n",
    "cadena = '10'\n",
    "\n",
    "# Utilizamos la función type para obtener el tipo de dato de \"cadena\" y asignamos el resultado a \"tipo\" #\n",
    "type(cadena)\n",
    "tipo = type(cadena)\n",
    "\n",
    "# Imprimimos con la función type, el tipo de dato que es la variable \"cadena\" #\n",
    "print('La variable cadena es de tipo', tipo)\n",
    "\n",
    "# convertimos el valor de cadena a entero y asignamos el resultado a la variable \"numero\" #\n",
    "int(cadena)\n",
    "numero = int(cadena)\n",
    "print('La variable numero es de tipo', type(numero))\n",
    "\n",
    "# Realizamos la operación de incremento en la variable número y asignamos el resultado a la misma variable #\n",
    "numero = int(cadena) + 1\n",
    "print(numero)"
   ]
  },
  {
   "cell_type": "markdown",
   "metadata": {},
   "source": [
    "### Ejercicio 4: Uso de la función input()\n",
    "\n",
    "1-Utiliza la función input() para solicitar al usuario que ingrese un número.\n",
    "\n",
    "2-Asigna el valor ingresado por el usuario a una variable llamada `numero`.\n",
    "\n",
    "3-Realiza la operación de incremento en `numero` y asigna el resultado a la misma variable.\n",
    "\n",
    "4-Imprime en pantalla el valor de numero utilizando la función print()."
   ]
  },
  {
   "cell_type": "code",
   "execution_count": 12,
   "metadata": {},
   "outputs": [
    {
     "name": "stdout",
     "output_type": "stream",
     "text": [
      "4\n"
     ]
    }
   ],
   "source": [
    "# Utilizamos la función input para solicitar el número y la asignamos a la variable numero #\n",
    "numero = int(input(\"Ingrese la contraseña numérica: \"))\n",
    "\n",
    "# Realizamos la operación de incremento en numero y asignamos el resultado a la misma variable. Luego imprimimos#\n",
    "numero = numero + 1\n",
    "print(numero)"
   ]
  }
 ],
 "metadata": {
  "kernelspec": {
   "display_name": "hackio",
   "language": "python",
   "name": "python3"
  },
  "language_info": {
   "codemirror_mode": {
    "name": "ipython",
    "version": 3
   },
   "file_extension": ".py",
   "mimetype": "text/x-python",
   "name": "python",
   "nbconvert_exporter": "python",
   "pygments_lexer": "ipython3",
   "version": "3.12.4"
  }
 },
 "nbformat": 4,
 "nbformat_minor": 2
}
