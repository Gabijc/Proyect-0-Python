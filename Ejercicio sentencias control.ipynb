{
 "cells": [
  {
   "cell_type": "markdown",
   "metadata": {},
   "source": [
    "<div style=\"text-align: center;\">\n",
    "  <img src=\"https://github.com/Hack-io-Data/Imagenes/blob/main/01-LogosHackio/logo_celeste@4x.png?raw=true\" alt=\"logo hack(io)\" />\n",
    "</div>"
   ]
  },
  {
   "cell_type": "markdown",
   "metadata": {},
   "source": [
    "#### 1. Escribe un programa que determine si un número es par o impar.\n",
    "\n"
   ]
  },
  {
   "cell_type": "code",
   "execution_count": 2,
   "metadata": {},
   "outputs": [
    {
     "name": "stdout",
     "output_type": "stream",
     "text": [
      "El número es par\n"
     ]
    }
   ],
   "source": [
    "numero = 10\n",
    "if numero % 2 == 0:\n",
    "    print(\"El número es par\")\n",
    "else: \n",
    "    print(\"El número es impar\")\n",
    "\n",
    "# Con este código estamos indicando que si el módulo (resto) de la operación es igual a cero al dividir entre dos, va a significar que estamos ante un número par. En caso contrario será impar.#\n"
   ]
  },
  {
   "cell_type": "markdown",
   "metadata": {},
   "source": [
    "#### 2. Genera un programa que nos diga si es de noche, de día o tarde según la hora proporcionada por el usuario."
   ]
  },
  {
   "cell_type": "code",
   "execution_count": 7,
   "metadata": {},
   "outputs": [
    {
     "name": "stdout",
     "output_type": "stream",
     "text": [
      "Son las 13.4 de la noche\n"
     ]
    }
   ],
   "source": [
    "dia = (7, 8, 9, 10, 11, 12)\n",
    "tarde = (13, 14, 15, 16, 17, 18, 19, 20, 21)\n",
    "noche = (22, 23, 24, 1, 2, 3, 4, 5, 6)\n",
    "hora = 13\n",
    "\n",
    "if hora in dia:\n",
    "    print(\"Son las\", hora, \"del dia\")\n",
    "elif hora in tarde:\n",
    "    print(\"Son las\", hora, \"de la tarde\")\n",
    "else:\n",
    "    print(\"Son las\", hora, \"de la noche\")\n",
    "\n",
    "# Con este código hemos generado una serie de intervalos que se corresponden con las horas del día, la tarde y la noche. Se ha de introducir la hora en formato 14 horas. # \n",
    "# Si queremos indicar una hora que no sea en punto hemos de poner la hora en float, como si fuesen decimales. Para las horas en punto debe ser in integer #"
   ]
  },
  {
   "cell_type": "markdown",
   "metadata": {},
   "source": [
    "#### 3. Dado un nombre imprime un saludo personalizado."
   ]
  },
  {
   "cell_type": "code",
   "execution_count": 8,
   "metadata": {},
   "outputs": [
    {
     "name": "stdout",
     "output_type": "stream",
     "text": [
      "Buenas tardes gabriela, son las 13 de la tarde.\n"
     ]
    }
   ],
   "source": [
    "nombre = input(\"Introduce un nombre: \")\n",
    "dia = (7, 8, 9, 10, 11, 12)\n",
    "tarde = (13, 14, 15, 16, 17, 18, 19, 20, 21)\n",
    "noche = (22, 23, 24, 1, 2, 3, 4, 5, 6)\n",
    "hora = 13\n",
    "\n",
    "if hora in dia:\n",
    "    print(f\"Buenos días {nombre}, son las {hora} del día.\")\n",
    "elif hora in tarde:\n",
    "    print(f\"Buenas tardes {nombre}, son las {hora} de la tarde.\")\n",
    "else:\n",
    "    print(f\"Hola {nombre}, son las {hora} de la noche. Esto es un recordatorio para acostarse.\")\n",
    "\n",
    "\n",
    "\n",
    "\n"
   ]
  },
  {
   "cell_type": "markdown",
   "metadata": {},
   "source": [
    "#### 4. Escribe un programa que determine qué calificación en texto tiene un alumno en base a su calificación numérica. Las reglas de calificación son: \n",
    "\n",
    "- 0 - 69 insuficiente\n",
    "\n",
    "- 70 - 79 bien\n",
    "\n",
    "- 80 - 89 muy bien\n",
    "\n",
    "- 90 - 100 excelente\n"
   ]
  },
  {
   "cell_type": "code",
   "execution_count": 16,
   "metadata": {},
   "outputs": [
    {
     "name": "stdout",
     "output_type": "stream",
     "text": [
      "Carlos ha obtenido un insuficiente.\n"
     ]
    }
   ],
   "source": [
    "# Introducimos el nombre del alumno#\n",
    "nombre = \"Carlos\"\n",
    "\n",
    "# Introducimos la calificación que ha obtenido #\n",
    "calificacion = 55\n",
    "\n",
    "# Vamos a ir generando intervalos que nos indiquen donde se encuentra la calificacion indicada #\n",
    "if 0 <= calificacion <= 69:\n",
    "    print(nombre, \"ha obtenido un insuficiente.\")\n",
    "elif 70 <= calificacion <= 79:\n",
    "    print(nombre, \"ha obtenido un bien.\")\n",
    "elif 80 <= calificacion <= 89:\n",
    "    print(nombre, \"ha obtenido un muy bien.\")\n",
    "elif 90 <= calificacion <= 100:\n",
    "    print(nombre, \"ha obtenido un excelente.\")\n",
    "else:\n",
    "    print(\"cañificación no válida.\")\n",
    "    "
   ]
  },
  {
   "cell_type": "markdown",
   "metadata": {},
   "source": [
    "#### 5. Escribe un programa que imprima el día de la semana, dado un número del 1 al 7.\n"
   ]
  },
  {
   "cell_type": "code",
   "execution_count": 24,
   "metadata": {},
   "outputs": [
    {
     "name": "stdout",
     "output_type": "stream",
     "text": [
      "Estamos a miércoles\n"
     ]
    }
   ],
   "source": [
    "numero = int(input(\"Dime  un número del 1-7\"))\n",
    "if numero == 1:\n",
    "    print(\"Estamos a lunes\")\n",
    "elif numero == 2:\n",
    "    print(\"Estamos a martes\")\n",
    "elif numero == 3:\n",
    "    print(\"Estamos a miércoles\")\n",
    "elif numero == 4:\n",
    "    print(\"Estamos a jueves\")\n",
    "elif numero == 5:\n",
    "    print(\"Estamos a viernes\")\n",
    "elif numero == 6:\n",
    "    print(\"Estamos a sábado\")\n",
    "elif numero == 7:\n",
    "    print(\"Estamos a domingo\")\n",
    "else:\n",
    "    print(\"Eso no es un día de la semana\")"
   ]
  },
  {
   "cell_type": "markdown",
   "metadata": {},
   "source": [
    "#### 6. Escribe un programa que determine si un número es positivo, negativo o cero."
   ]
  },
  {
   "cell_type": "code",
   "execution_count": 34,
   "metadata": {},
   "outputs": [
    {
     "name": "stdout",
     "output_type": "stream",
     "text": [
      "El número es cero\n"
     ]
    }
   ],
   "source": [
    "numero = int(input(\"Dame un número entero\"))\n",
    "if numero < 0:\n",
    "    print(\"El número es negativo\")\n",
    "elif numero == 0:\n",
    "    print(\"El número es cero\")\n",
    "else:\n",
    "    print(\"El número es positivo\")"
   ]
  },
  {
   "cell_type": "markdown",
   "metadata": {},
   "source": [
    "#### 7. Escribe un programa que determine si una persona puede conducir o no. La edad mínima para conducir es 18 años. \n"
   ]
  },
  {
   "cell_type": "code",
   "execution_count": 22,
   "metadata": {},
   "outputs": [
    {
     "name": "stdout",
     "output_type": "stream",
     "text": [
      "Esa edad no existe\n"
     ]
    }
   ],
   "source": [
    "edad = int(input(\"Dime una edad\"))\n",
    "if edad < 0:\n",
    "    print(\"Esa edad no existe\")\n",
    "elif 0<= edad <18:\n",
    "    print(\"El usuario no puede conducir\") \n",
    "else: \n",
    "    print(\"El usuario puede conducir\")"
   ]
  },
  {
   "cell_type": "markdown",
   "metadata": {},
   "source": [
    "#### 8. Escribe un programa que determine si un estudiante aprobó o suspendió un examen."
   ]
  },
  {
   "cell_type": "code",
   "execution_count": 31,
   "metadata": {},
   "outputs": [
    {
     "name": "stdout",
     "output_type": "stream",
     "text": [
      "Suspenso\n"
     ]
    }
   ],
   "source": [
    "numero = 4.5\n",
    "\n",
    "# Vamos a considerar que del 0-4.99 es un suspenso, y que del 5 al 10 es un aprobado #\n",
    "\n",
    "if 0 <= numero <= 10:\n",
    "    if 0 <= numero <= 4.99: \n",
    "        print(\"Suspenso\")\n",
    "    else:\n",
    "        print(\"Aprobado\")\n",
    "else: \n",
    "    print(\"Esa nota no existe\")\n"
   ]
  },
  {
   "cell_type": "markdown",
   "metadata": {},
   "source": [
    "#### 9. Escribe un programa que determine si un número es múltiplo de 3 y 5.\n"
   ]
  },
  {
   "cell_type": "code",
   "execution_count": 35,
   "metadata": {},
   "outputs": [
    {
     "name": "stdout",
     "output_type": "stream",
     "text": [
      "El número no es múltiplo de 3 y 5\n"
     ]
    }
   ],
   "source": [
    "numero = int(input(\"Dame un número\"))\n",
    "if numero % 3 == 0 and numero % 5 == 0:\n",
    "    print(\"El número es múltiplo de 3 y 5\") \n",
    "else:\n",
    "    print(\"El número no es múltiplo de 3 y 5\") "
   ]
  },
  {
   "cell_type": "markdown",
   "metadata": {},
   "source": [
    "#### 10. Escribe un programa que determine si un número es par o impar.\n"
   ]
  },
  {
   "cell_type": "code",
   "execution_count": 19,
   "metadata": {},
   "outputs": [
    {
     "name": "stdout",
     "output_type": "stream",
     "text": [
      "El número es impar\n"
     ]
    }
   ],
   "source": [
    "numero = int(input(\"Dime un número par o impar\"))\n",
    "if numero % 2 == 0:\n",
    "    print(\"El número es par\")\n",
    "else: \n",
    "    print(\"El número es impar\")"
   ]
  }
 ],
 "metadata": {
  "kernelspec": {
   "display_name": "hackio",
   "language": "python",
   "name": "python3"
  },
  "language_info": {
   "codemirror_mode": {
    "name": "ipython",
    "version": 3
   },
   "file_extension": ".py",
   "mimetype": "text/x-python",
   "name": "python",
   "nbconvert_exporter": "python",
   "pygments_lexer": "ipython3",
   "version": "3.12.4"
  }
 },
 "nbformat": 4,
 "nbformat_minor": 2
}
