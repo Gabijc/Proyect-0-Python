{
 "cells": [
  {
   "cell_type": "markdown",
   "metadata": {},
   "source": [
    "<div style=\"text-align: center;\">\n",
    "  <img src=\"https://github.com/Hack-io-Data/Imagenes/blob/main/01-LogosHackio/logo_celeste@4x.png?raw=true\" alt=\"logo hack(io)\" />\n",
    "</div>\n"
   ]
  },
  {
   "cell_type": "markdown",
   "metadata": {},
   "source": [
    "#### 1. Crea una tupla llamada `persona` y asigna a ella los valores 'Juan', 25, 75.5, 1.75."
   ]
  },
  {
   "cell_type": "code",
   "execution_count": 3,
   "metadata": {},
   "outputs": [
    {
     "name": "stdout",
     "output_type": "stream",
     "text": [
      "('Juan', 25, 75.5, 1.75)\n"
     ]
    }
   ],
   "source": [
    "persona = ('Juan',25,75.5,1.75)\n",
    "print(persona)"
   ]
  },
  {
   "cell_type": "markdown",
   "metadata": {},
   "source": [
    "#### 2. Crea una tupla llamada `animal` y asigna a ella los valores 'perro', 'gato', 'conejo'."
   ]
  },
  {
   "cell_type": "code",
   "execution_count": 4,
   "metadata": {},
   "outputs": [
    {
     "name": "stdout",
     "output_type": "stream",
     "text": [
      "('perro', 'gato', 'conejo')\n"
     ]
    }
   ],
   "source": [
    "animal = ('perro','gato','conejo')\n",
    "print(animal)"
   ]
  },
  {
   "cell_type": "markdown",
   "metadata": {},
   "source": [
    "#### 3. Obten la longitud de cada tupla y asigna el resultado a una variable llamada `longitud_persona` y `longitud_animal`.\n"
   ]
  },
  {
   "cell_type": "code",
   "execution_count": 5,
   "metadata": {},
   "outputs": [
    {
     "name": "stdout",
     "output_type": "stream",
     "text": [
      "4\n",
      "3\n"
     ]
    }
   ],
   "source": [
    "longitud_persona = len(persona)\n",
    "longitud_animal = len(animal)\n",
    "print(longitud_persona)\n",
    "print(longitud_animal)"
   ]
  },
  {
   "cell_type": "markdown",
   "metadata": {},
   "source": [
    "#### 4. Imprime en pantalla el valor de cada variable utilizando la función print()."
   ]
  },
  {
   "cell_type": "code",
   "execution_count": 6,
   "metadata": {},
   "outputs": [
    {
     "name": "stdout",
     "output_type": "stream",
     "text": [
      "La longitud de la variable longitud_persona es 4\n",
      "La longitud de la variable longitud_animal es 3\n"
     ]
    }
   ],
   "source": [
    "print(\"La longitud de la variable longitud_persona es\",longitud_persona)\n",
    "print(\"La longitud de la variable longitud_animal es\",longitud_animal)"
   ]
  },
  {
   "cell_type": "markdown",
   "metadata": {},
   "source": [
    "#### 5. Convierte la tupla `animal` en una lista. Comprueba que es una lista."
   ]
  },
  {
   "cell_type": "code",
   "execution_count": 7,
   "metadata": {},
   "outputs": [
    {
     "name": "stdout",
     "output_type": "stream",
     "text": [
      "La variable animal es de tipo <class 'list'>\n"
     ]
    }
   ],
   "source": [
    "# Para convertir la tupla animal en una lista vamos a generar una nueva variable que contenga el cambio de tipo de la variable #\n",
    "lista_animal = list(animal)\n",
    "print('La variable animal es de tipo', type(lista_animal))\n"
   ]
  },
  {
   "cell_type": "markdown",
   "metadata": {},
   "source": [
    "#### 6. Genera una tupla anidada nueva compuesta por la tupla `datos` y la lista `animal`. Asigna el resultado a una variable llamada `anidada`."
   ]
  },
  {
   "cell_type": "code",
   "execution_count": 12,
   "metadata": {},
   "outputs": [
    {
     "name": "stdout",
     "output_type": "stream",
     "text": [
      "<zip object at 0x000001FA4BD2EB40>\n",
      "[('Juan', 'perro'), (25, 'gato'), (75.5, 'conejo')]\n"
     ]
    }
   ],
   "source": [
    "# Generamos la tupla datos, que se va a igualar a la variable persona #\n",
    "datos = persona\n",
    "anidada = zip(datos,animal)\n",
    "print(anidada)\n",
    "print(list(anidada))"
   ]
  },
  {
   "cell_type": "markdown",
   "metadata": {},
   "source": [
    "#### 7.  Accede al animal 'gato' de la tupla `anidada` e imprímelo en pantalla."
   ]
  },
  {
   "cell_type": "code",
   "execution_count": 14,
   "metadata": {},
   "outputs": [
    {
     "name": "stdout",
     "output_type": "stream",
     "text": [
      "gato\n"
     ]
    }
   ],
   "source": [
    "persona = ('Juan',25,75.5,1.75)\n",
    "animal = ('perro','gato','conejo')\n",
    "datos = persona\n",
    "anidada = zip(datos,animal)\n",
    "lista_anidada = list(anidada)\n",
    "elemento_gato = lista_anidada[1][1]\n",
    "print(elemento_gato)\n",
    "\n",
    "\n"
   ]
  },
  {
   "cell_type": "markdown",
   "metadata": {},
   "source": [
    "#### 8. Crea una tupla donde su unico valor es \"C\"."
   ]
  },
  {
   "cell_type": "code",
   "execution_count": 15,
   "metadata": {},
   "outputs": [
    {
     "name": "stdout",
     "output_type": "stream",
     "text": [
      "('C',)\n"
     ]
    }
   ],
   "source": [
    "tupla1 = 'C',\n",
    "print(tupla1)"
   ]
  },
  {
   "cell_type": "markdown",
   "metadata": {},
   "source": [
    "#### 9. Identifica el tipo de dato de la tupla."
   ]
  },
  {
   "cell_type": "code",
   "execution_count": 16,
   "metadata": {},
   "outputs": [
    {
     "name": "stdout",
     "output_type": "stream",
     "text": [
      "la variable tupla1 es de tipo <class 'tuple'>\n"
     ]
    }
   ],
   "source": [
    "print(\"la variable tupla1 es de tipo\", type(tupla1))"
   ]
  },
  {
   "cell_type": "markdown",
   "metadata": {},
   "source": [
    "#### 10. Crea una tupla con los siguientes valores: 'o','s','i','n','c','h','i','s'"
   ]
  },
  {
   "cell_type": "code",
   "execution_count": 17,
   "metadata": {},
   "outputs": [
    {
     "name": "stdout",
     "output_type": "stream",
     "text": [
      "('o', 's', 'i', 'n', 'c', 'h', 'i', 's')\n"
     ]
    }
   ],
   "source": [
    "tupla2 = ('o','s','i','n','c','h','i','s')\n",
    "print(tupla2)"
   ]
  },
  {
   "cell_type": "markdown",
   "metadata": {},
   "source": [
    "#### 11. Crea una tupla que sea la unión de las dos tuplas anteriores y asigna el resultado a una variable llamada `tupla3`.\n"
   ]
  },
  {
   "cell_type": "code",
   "execution_count": 18,
   "metadata": {},
   "outputs": [
    {
     "name": "stdout",
     "output_type": "stream",
     "text": [
      "('C', 'o', 's', 'i', 'n', 'c', 'h', 'i', 's')\n"
     ]
    }
   ],
   "source": [
    "tupla3 = tupla1 +  tupla2\n",
    "print(tupla3)"
   ]
  },
  {
   "cell_type": "markdown",
   "metadata": {},
   "source": [
    "#### 12. ¿Cuál es la longitud de las tuplas `tupla1`,`tupla2` y `tupla3`?"
   ]
  },
  {
   "cell_type": "code",
   "execution_count": 20,
   "metadata": {},
   "outputs": [
    {
     "name": "stdout",
     "output_type": "stream",
     "text": [
      "La longitud de tupla1 es: 1\n",
      "La longitud de tupla2 es: 8\n",
      "La longitud de tupla3 es: 9\n"
     ]
    }
   ],
   "source": [
    "print(\"La longitud de tupla1 es:\", len(tupla1))\n",
    "print(\"La longitud de tupla2 es:\", len(tupla2))\n",
    "print(\"La longitud de tupla3 es:\", len(tupla3))"
   ]
  },
  {
   "cell_type": "markdown",
   "metadata": {},
   "source": [
    "#### 13. Comprueba que la longitud de la tupla `tupla3` es igual a la suma de las longitudes de las tuplas `tupla1` y `tupla2`.\n"
   ]
  },
  {
   "cell_type": "code",
   "execution_count": 43,
   "metadata": {},
   "outputs": [
    {
     "name": "stdout",
     "output_type": "stream",
     "text": [
      "Tupla3 es la suma de Tupla1 y Tupla2\n"
     ]
    }
   ],
   "source": [
    "if tupla3 == tupla1 + tupla2:\n",
    "    print(\"Tupla3 es la suma de Tupla1 y Tupla2\")\n",
    "else:\n",
    "    print(\"Tupla3 no es la suma de Tupla1 y Tupla2\")"
   ]
  },
  {
   "cell_type": "markdown",
   "metadata": {},
   "source": [
    "#### 14. Cual es el indice del valor 'h' en la tupla `tupla2`? y en `tupla3`?"
   ]
  },
  {
   "cell_type": "code",
   "execution_count": 21,
   "metadata": {},
   "outputs": [
    {
     "name": "stdout",
     "output_type": "stream",
     "text": [
      "La posición de la h en la tupla2 es: 5\n",
      "La posición de la h en la tupla3 es: 6\n"
     ]
    }
   ],
   "source": [
    "print(\"La posición de la h en la tupla2 es:\", tupla2.index('h'))\n",
    "print(\"La posición de la h en la tupla3 es:\", tupla3.index('h'))"
   ]
  }
 ],
 "metadata": {
  "kernelspec": {
   "display_name": "hackio",
   "language": "python",
   "name": "python3"
  },
  "language_info": {
   "codemirror_mode": {
    "name": "ipython",
    "version": 3
   },
   "file_extension": ".py",
   "mimetype": "text/x-python",
   "name": "python",
   "nbconvert_exporter": "python",
   "pygments_lexer": "ipython3",
   "version": "3.12.4"
  }
 },
 "nbformat": 4,
 "nbformat_minor": 2
}
