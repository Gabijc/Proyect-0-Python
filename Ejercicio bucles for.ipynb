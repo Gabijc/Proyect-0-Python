{
 "cells": [
  {
   "cell_type": "markdown",
   "metadata": {},
   "source": [
    "<div style=\"text-align: center;\">\n",
    "  <img src=\"https://github.com/Hack-io-Data/Imagenes/blob/main/01-LogosHackio/logo_celeste@4x.png?raw=true\" alt=\"logo hack(io)\" />\n",
    "</div>"
   ]
  },
  {
   "cell_type": "markdown",
   "metadata": {},
   "source": [
    "####  1. Genera una lista de números del 0 al 4 y luego imprime cada número en la lista usando un `bucle for`. "
   ]
  },
  {
   "cell_type": "code",
   "execution_count": 4,
   "metadata": {},
   "outputs": [
    {
     "name": "stdout",
     "output_type": "stream",
     "text": [
      "0\n",
      "1\n",
      "2\n",
      "3\n",
      "4\n"
     ]
    }
   ],
   "source": [
    "numeros = [0, 1, 2, 3, 4]\n",
    "for numero in numeros:\n",
    "    print(numero)"
   ]
  },
  {
   "cell_type": "markdown",
   "metadata": {},
   "source": [
    "#### 2. Itera sobre una lista de frutas y muestra cada fruta en mayúsculas. \n"
   ]
  },
  {
   "cell_type": "code",
   "execution_count": 11,
   "metadata": {},
   "outputs": [
    {
     "name": "stdout",
     "output_type": "stream",
     "text": [
      "kiwi\n",
      "peras\n",
      "manzana\n",
      "plátano\n",
      "['KIWI', 'PERAS', 'MANZANA', 'PLÁTANO']\n"
     ]
    }
   ],
   "source": [
    "frutas = [\"kiwi\", \"peras\", \"manzana\", \"plátano\"]\n",
    "frutas_mayus = []\n",
    "for fruta in frutas:\n",
    "    print(fruta)\n",
    "    frutas_mayus.append(fruta.upper())\n",
    "print(frutas_mayus)\n"
   ]
  },
  {
   "cell_type": "markdown",
   "metadata": {},
   "source": [
    "####  3. Genera un bucle while que imprima los números del 0 al 4. \n"
   ]
  },
  {
   "cell_type": "code",
   "execution_count": 44,
   "metadata": {},
   "outputs": [
    {
     "name": "stdout",
     "output_type": "stream",
     "text": [
      "(0, 1, 2, 3, 4)\n"
     ]
    }
   ],
   "source": [
    "numeros = (0, 1, 2, 3, 4)\n",
    "\n",
    "while numeros:\n",
    "    print(numeros)\n",
    "    break"
   ]
  },
  {
   "cell_type": "markdown",
   "metadata": {},
   "source": [
    "#### 4. Genera un bucle del 0 al 9, pero que se detenga en el 5.\n"
   ]
  },
  {
   "cell_type": "code",
   "execution_count": 17,
   "metadata": {},
   "outputs": [
    {
     "name": "stdout",
     "output_type": "stream",
     "text": [
      "0\n",
      "1\n",
      "2\n",
      "3\n",
      "4\n",
      "5\n"
     ]
    }
   ],
   "source": [
    "lista_ejercicio4 = [0, 1, 2, 3, 4, 5, 6, 7, 8, 9]\n",
    "\n",
    "for numero in lista_ejercicio4:\n",
    "    if numero <= 5:\n",
    "        print(numero)\n",
    "    else:\n",
    "        ..."
   ]
  },
  {
   "cell_type": "markdown",
   "metadata": {},
   "source": [
    "#### 5. Recorre los números del 0 al 9 e imprime solo los números impares."
   ]
  },
  {
   "cell_type": "code",
   "execution_count": 20,
   "metadata": {},
   "outputs": [
    {
     "name": "stdout",
     "output_type": "stream",
     "text": [
      "1\n",
      "3\n",
      "5\n",
      "7\n",
      "9\n"
     ]
    }
   ],
   "source": [
    "lista_ejercicio4 = [0, 1, 2, 3, 4, 5, 6, 7, 8, 9]\n",
    "\n",
    "for numero in lista_ejercicio4:\n",
    "    if numero % 2 == 0:\n",
    "        print(numero + 1)\n",
    "    else:\n",
    "        ..."
   ]
  },
  {
   "cell_type": "markdown",
   "metadata": {},
   "source": [
    "#### 6. Dada la lista `[10, 20, 30, 40, 50]`, calcula la suma de todos los elementos usando un bucle `for`."
   ]
  },
  {
   "cell_type": "code",
   "execution_count": 35,
   "metadata": {},
   "outputs": [
    {
     "name": "stdout",
     "output_type": "stream",
     "text": [
      "10\n",
      "20\n",
      "30\n",
      "40\n",
      "50\n",
      "150\n"
     ]
    }
   ],
   "source": [
    "lista_numero = [10, 20, 30, 40, 50]\n",
    "resultado = 0\n",
    "\n",
    "for numero in lista_numero:\n",
    "    print(numero)\n",
    "    resultado += numero\n",
    "\n",
    "print(resultado)"
   ]
  },
  {
   "cell_type": "markdown",
   "metadata": {},
   "source": [
    "#### 7. Dada la cadena `\"Hola mundo\"`, cuenta cuántas veces aparecen las vocales (`a`, `e`, `i`, `o`, `u`) usando un bucle `for`.\n"
   ]
  },
  {
   "cell_type": "code",
   "execution_count": 3,
   "metadata": {},
   "outputs": [
    {
     "name": "stdout",
     "output_type": "stream",
     "text": [
      "La letra 'o' aparece 2 veces\n",
      "La letra 'a' aparece 1 veces\n",
      "La letra 'u' aparece 1 veces\n",
      "La letra 'o' aparece 2 veces\n"
     ]
    }
   ],
   "source": [
    "texto = \"Hola mundo\"\n",
    "    \n",
    "for letra in texto:\n",
    "    if letra.isalpha():\n",
    "        if letra in (\"aeiou\"):\n",
    "            cuenta_vocal = texto.count(letra)\n",
    "            print(f\"La letra '{letra}' aparece {cuenta_vocal} veces\")  \n",
    "        elif letra in (\"bcdfghjklmnopqrstvwxyz\"):\n",
    "            ...\n",
    "        else:\n",
    "            ...\n",
    "\n"
   ]
  },
  {
   "cell_type": "markdown",
   "metadata": {},
   "source": [
    "#### 8. Dada la cadena `\"Python\"`, usa un bucle `for` para imprimir los caracteres en orden inverso (`n`, `o`, `h`, `t`, `y`, `P`).\n"
   ]
  },
  {
   "cell_type": "code",
   "execution_count": 31,
   "metadata": {},
   "outputs": [
    {
     "name": "stdout",
     "output_type": "stream",
     "text": [
      "n\n",
      "o\n",
      "h\n",
      "t\n",
      "y\n",
      "P\n"
     ]
    }
   ],
   "source": [
    "cadena = \"Python\"\n",
    "lista_caracteres = list(cadena)\n",
    "lista_caracteres.reverse()\n",
    "\n",
    "for elemento in lista_caracteres:\n",
    "    print(elemento)\n",
    "\n"
   ]
  },
  {
   "cell_type": "markdown",
   "metadata": {},
   "source": [
    "#### 9. Dada la lista `[1, 2, 3, 4, 5]`, multiplica todos sus elementos usando un bucle `for` y almacena los resultados en una lista nueva. \n"
   ]
  },
  {
   "cell_type": "code",
   "execution_count": 30,
   "metadata": {},
   "outputs": [
    {
     "name": "stdout",
     "output_type": "stream",
     "text": [
      "[1, 2, 6, 24, 120]\n"
     ]
    }
   ],
   "source": [
    "lista_numeros = [1, 2, 3, 4, 5]\n",
    "lista_numeros_final = []\n",
    "\n",
    "producto = lista_numeros[0]\n",
    "\n",
    "for numero in lista_numeros:\n",
    "    producto *= numero \n",
    "    lista_numeros_final.append(producto)\n",
    "    \n",
    "print(lista_numeros_final)\n",
    "\n"
   ]
  },
  {
   "cell_type": "markdown",
   "metadata": {},
   "source": [
    "#### 10. Dada la lista `[1, 2, 3, 4, 5, 6, 7, 8, 9, 10]`, utiliza un bucle `for` para contar cuántos números son pares y cuántos son impares."
   ]
  },
  {
   "cell_type": "code",
   "execution_count": 9,
   "metadata": {},
   "outputs": [
    {
     "name": "stdout",
     "output_type": "stream",
     "text": [
      "El número 1 es impar\n",
      "El número 2 es par\n",
      "El número 3 es impar\n",
      "El número 4 es par\n",
      "El número 5 es impar\n",
      "El número 6 es par\n",
      "El número 7 es impar\n",
      "El número 8 es par\n",
      "El número 9 es impar\n",
      "El número 10 es par\n",
      "[]\n"
     ]
    }
   ],
   "source": [
    "lista_pares_impares = [1, 2, 3, 4, 5, 6, 7, 8, 9, 10]\n",
    "\n",
    "pares = []\n",
    "impares= []\n",
    "\n",
    "for numero in lista_pares_impares:\n",
    "    if numero % 2 == 0:\n",
    "        print(f\"El número {numero} es par\")\n",
    "        pares.append(numero)\n",
    "    else:\n",
    "        print(f\"El número {numero} es impar\")\n",
    "        impares.append(numero)\n",
    "\n",
    "print(pares)\n",
    "print(impares)"
   ]
  },
  {
   "cell_type": "markdown",
   "metadata": {},
   "source": [
    "#### 11. Escribe un programa que solicite al usuario un número entero positivo (`n`) y calcule la suma de todos los números primos menores o iguales a `n`. Utiliza un bucle `for` para iterar sobre cada número y verifica si es primo."
   ]
  },
  {
   "cell_type": "code",
   "execution_count": 6,
   "metadata": {},
   "outputs": [
    {
     "name": "stdout",
     "output_type": "stream",
     "text": [
      "10\n"
     ]
    }
   ],
   "source": [
    "numero = int(input(\"Introduce un número positivo: \"))\n",
    "suma_primos = 0\n",
    "\n",
    "for n in range(2, numero):\n",
    "        es_primo = True\n",
    "        for i in range(2,n):\n",
    "            if n % i == 0:\n",
    "                es_primo = False\n",
    "                break\n",
    "        if es_primo:\n",
    "             suma_primos += n\n",
    "\n",
    "print(suma_primos)\n"
   ]
  },
  {
   "cell_type": "markdown",
   "metadata": {},
   "source": [
    "#### 12. Escribe un programa que solicite al usuario un número entero positivo (`n`) y luego imprima un patrón de asteriscos como el siguiente ejemplo para `n = 5`:\n",
    "```\n",
    "*\n",
    "**\n",
    "***\n",
    "****\n",
    "*****\n",
    "```\n",
    "Utiliza un bucle `for` anidado para controlar la cantidad de asteriscos en cada línea."
   ]
  },
  {
   "cell_type": "code",
   "execution_count": 12,
   "metadata": {},
   "outputs": [
    {
     "name": "stdout",
     "output_type": "stream",
     "text": [
      "* \n",
      "* * \n",
      "* * * \n",
      "* * * * \n",
      "* * * * * \n"
     ]
    }
   ],
   "source": [
    "numero = int(input(\"Introduce un número positivo: \"))\n",
    "for i in range(numero):\n",
    "    for a in range(i+1):\n",
    "        print(\"*\", end=\" \")\n",
    "    print (\"\")\n"
   ]
  },
  {
   "cell_type": "markdown",
   "metadata": {},
   "source": [
    "#### 13. Dado un texto, utiliza un bucle `for` para contar cuántas veces aparece cada palabra en el texto. Ignora mayúsculas/minúsculas y los signos de puntuación."
   ]
  },
  {
   "cell_type": "code",
   "execution_count": 15,
   "metadata": {},
   "outputs": [
    {
     "name": "stdout",
     "output_type": "stream",
     "text": [
      "La palabra 'mi' aparece 3 veces\n"
     ]
    }
   ],
   "source": [
    "texto = \"mi mi mi\"\n",
    "texto_minus = texto.lower()\n",
    "texto_palabras = texto_minus.split()\n",
    "indice = 0\n",
    "\n",
    "for palabra in texto_palabras:\n",
    "    if palabra.isalpha():\n",
    "        cuenta_palabra = texto_palabras.count(palabra)\n",
    "        print(f\"La palabra '{palabra}' aparece {cuenta_palabra} veces\")     \n",
    "    else:\n",
    "        ...\n",
    "    indice += 1\n",
    "    break\n",
    "    "
   ]
  },
  {
   "cell_type": "markdown",
   "metadata": {},
   "source": [
    "#### 14. Escribe un programa que solicite al usuario dos números enteros positivos (`inicio` y `fin`, donde `inicio <= fin`) y luego calcule la suma de los números pares y la suma de los números impares en ese rango. Utiliza un bucle `for` para iterar sobre cada número y una estructura `if-else` para clasificar y sumar los números pares e impares."
   ]
  },
  {
   "cell_type": "code",
   "execution_count": 39,
   "metadata": {},
   "outputs": [
    {
     "name": "stdout",
     "output_type": "stream",
     "text": [
      "28\n",
      "24\n"
     ]
    }
   ],
   "source": [
    "inicio = int(input(\"Introduce un número positivo: \"))\n",
    "fin = int(input(\"Introduce un número positivo: \"))\n",
    "if inicio > fin:\n",
    "    inicio,fin = fin,inicio\n",
    "# En caso de que el numero inicio sea mayor que el de fin, los intercambiamos de lugar, para que sea correcto.#\n",
    "numeros = range(inicio, fin + 1)\n",
    "# Ponemos fin + 1 para que me coja el numero elegido, sino sería uno menos# \n",
    "\n",
    "i = 0\n",
    "n = len(numeros)\n",
    "suma_pares = 0\n",
    "suma_impares = 0\n",
    "\n",
    "if i <= n-1:\n",
    "    for x in numeros:\n",
    "        if x % 2 == 0:\n",
    "            suma_pares += x\n",
    "        else:\n",
    "            suma_impares += x\n",
    "print(suma_pares)\n",
    "print(suma_impares)\n",
    "    \n"
   ]
  },
  {
   "cell_type": "markdown",
   "metadata": {},
   "source": [
    "#### 15. Escribe un programa que solicite al usuario un número entero positivo (`n`) y luego identifique todos los números primos menores o iguales a `n`. Para cada número, imprime si es primo o no usando un bucle `for` y una estructura `if-else` para verificar la condición de primalidad."
   ]
  },
  {
   "cell_type": "code",
   "execution_count": 25,
   "metadata": {},
   "outputs": [
    {
     "name": "stdout",
     "output_type": "stream",
     "text": [
      "2 no es primo es divisor.\n",
      "3 es primo.\n",
      "4 no es primo es divisor.\n",
      "5 no es primo es divisor.\n",
      "6 es primo.\n",
      "7 es primo.\n",
      "8 es primo.\n",
      "9 es primo.\n",
      "10 no es primo es divisor.\n",
      "11 es primo.\n",
      "12 es primo.\n",
      "13 es primo.\n",
      "14 es primo.\n",
      "15 es primo.\n",
      "16 es primo.\n",
      "17 es primo.\n",
      "18 es primo.\n",
      "19 es primo.\n"
     ]
    }
   ],
   "source": [
    "def es_primo(num):\n",
    "    for n in range(2, num):\n",
    "        if num % n == 0:\n",
    "            print(n, \"no es primo es divisor.\")\n",
    "        elif num % n != 0:\n",
    "            print(n, \"es primo.\")\n",
    "\n",
    "es_primo(20)"
   ]
  },
  {
   "cell_type": "markdown",
   "metadata": {},
   "source": [
    "#### 16.Dada una lista de precios `[100, 200, 300, 400, 500]`, aplica un descuento del 10% a todos los precios mayores a `250`. Imprime la lista actualizada de precios después de aplicar el descuento utilizando un bucle `for`. "
   ]
  },
  {
   "cell_type": "code",
   "execution_count": 22,
   "metadata": {},
   "outputs": [
    {
     "name": "stdout",
     "output_type": "stream",
     "text": [
      "[100, 200, 270.0, 360.0, 450.0]\n"
     ]
    }
   ],
   "source": [
    "lista_precios = [100, 200, 300, 400, 500]\n",
    "lista_precios_final = []\n",
    "\n",
    "for numero in lista_precios:\n",
    "    if numero > 250:\n",
    "        numero -= (numero * 0.1)\n",
    "        lista_precios_final.append(numero)\n",
    "    elif numero < 250:\n",
    "        lista_precios_final.append(numero)\n",
    "    else:\n",
    "        ...\n",
    "\n",
    "print(lista_precios_final)"
   ]
  },
  {
   "cell_type": "markdown",
   "metadata": {},
   "source": [
    "#### 17. Dada una lista de calificaciones de estudiantes `[85, 92, 78, 90, 88]`, clasifica a cada estudiante como \"Aprobado\" si la calificación es mayor o igual a `80` y como \"Reprobado\" si es menor a `80`. Imprime el nombre de cada estudiante junto con su estado utilizando un bucle `for` y una estructura `if-else`.\n"
   ]
  },
  {
   "cell_type": "code",
   "execution_count": 16,
   "metadata": {},
   "outputs": [
    {
     "name": "stdout",
     "output_type": "stream",
     "text": [
      "El alumno Pepe ha obtenido un 85, por lo que ha aprobado\n",
      "El alumno María ha obtenido un 92, por lo que ha aprobado\n",
      "El alumno Laura ha obtenido un 78, por lo que ha suspendido\n",
      "El alumno Juan ha obtenido un 90, por lo que ha aprobado\n",
      "El alumno Lucía ha obtenido un 88, por lo que ha aprobado\n"
     ]
    }
   ],
   "source": [
    "calificaciones = [85, 92, 78, 90, 88]\n",
    "nombres = [\"Pepe\", \"María\", \"Laura\", \"Juan\", \"Lucía\"]\n",
    "calificaciones_nombre = dict(zip(calificaciones,nombres))\n",
    "\n",
    "for calificacion,nombre in calificaciones_nombre.items():\n",
    "    if calificacion >= 80:\n",
    "        print(f\"El alumno {nombre} ha obtenido un {calificacion}, por lo que ha aprobado\")\n",
    "    else:\n",
    "        print(f\"El alumno {nombre} ha obtenido un {calificacion}, por lo que ha suspendido\")"
   ]
  },
  {
   "cell_type": "markdown",
   "metadata": {},
   "source": [
    "\n",
    "#### 18. Escribe un programa que solicite al usuario dos números enteros positivos (`inicio`, `fin`) y otro número entero positivo (`divisor`). Encuentra el número más grande en el rango desde `inicio` hasta `fin` que sea divisible por `divisor`. Utiliza un bucle `for` y una estructura `if-else` para verificar y mantener el registro del número más grande divisible por el divisor dado.\n"
   ]
  },
  {
   "cell_type": "code",
   "execution_count": 43,
   "metadata": {},
   "outputs": [
    {
     "name": "stdout",
     "output_type": "stream",
     "text": [
      "6\n"
     ]
    }
   ],
   "source": [
    "inicio = int(input(\"Introduce un número positivo: \"))\n",
    "fin = int(input(\"Introduce un número positivo: \"))\n",
    "divisor = int(input(\"Introduce un número positivo: \"))\n",
    "if inicio > fin:\n",
    "    inicio,fin = fin,inicio\n",
    "# En caso de que el numero inicio sea mayor que el de fin, los intercambiamos de lugar, para que sea correcto.#\n",
    "numeros = range(inicio, fin + 1)\n",
    "# Ponemos fin + 1 para que me coja el numero elegido, sino sería uno menos# \n",
    "\n",
    "i = 0\n",
    "n = len(numeros)\n",
    "\n",
    "if i <= n-1:\n",
    "    for x in numeros:\n",
    "        if x % divisor == 0:\n",
    "            maximo_divisible = x\n",
    "        else:\n",
    "            ...\n",
    "print(maximo_divisible)"
   ]
  },
  {
   "cell_type": "markdown",
   "metadata": {},
   "source": []
  }
 ],
 "metadata": {
  "kernelspec": {
   "display_name": "hackio",
   "language": "python",
   "name": "python3"
  },
  "language_info": {
   "codemirror_mode": {
    "name": "ipython",
    "version": 3
   },
   "file_extension": ".py",
   "mimetype": "text/x-python",
   "name": "python",
   "nbconvert_exporter": "python",
   "pygments_lexer": "ipython3",
   "version": "3.12.4"
  }
 },
 "nbformat": 4,
 "nbformat_minor": 2
}
