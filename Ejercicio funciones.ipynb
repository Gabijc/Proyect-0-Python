{
 "cells": [
  {
   "cell_type": "markdown",
   "metadata": {},
   "source": [
    "\n",
    "<div style=\"text-align: center;\">\n",
    "  <img src=\"https://github.com/Hack-io-Data/Imagenes/blob/main/01-LogosHackio/logo_celeste@4x.png?raw=true\" alt=\"esquema\" />\n",
    "</div>"
   ]
  },
  {
   "cell_type": "markdown",
   "metadata": {},
   "source": [
    "#### 1. Escribe una función sin parámetros que imprima el siguiente mensaje \"¡Hola! Bienvenido.\"\n"
   ]
  },
  {
   "cell_type": "code",
   "execution_count": 3,
   "metadata": {},
   "outputs": [
    {
     "name": "stdout",
     "output_type": "stream",
     "text": [
      "¡Hola!, Bienvenido\n"
     ]
    }
   ],
   "source": [
    "def funcion_bienvenido():\n",
    "    \"\"\" Esta función nos genera el mensaje '¡Hola!, Bienvenido'\"\"\"\n",
    "    print(\"¡Hola!, Bienvenido\")\n",
    "\n",
    "funcion_bienvenido()"
   ]
  },
  {
   "cell_type": "markdown",
   "metadata": {},
   "source": [
    "#### 2. Escribe una función que reciba dos parámetros y devuelva la suma de ambos.\n"
   ]
  },
  {
   "cell_type": "code",
   "execution_count": 7,
   "metadata": {},
   "outputs": [
    {
     "data": {
      "text/plain": [
       "2.3"
      ]
     },
     "execution_count": 7,
     "metadata": {},
     "output_type": "execute_result"
    }
   ],
   "source": [
    "def suma_parametros(x,y):\n",
    "    \"\"\"Función que recibe dos parámetros y devuelve su suma\n",
    "\n",
    "    Args:\n",
    "        parametros (int,float): un numero entero o decimal cualquiera\n",
    "\n",
    "    Returns:\n",
    "        int,float: La suma de los parámetros recibidos\n",
    "    \"\"\"\n",
    "    return x + y\n",
    "suma_parametros(-3.5,5.8)"
   ]
  },
  {
   "cell_type": "markdown",
   "metadata": {},
   "source": [
    "#### 3. Escribe una función que reciba un número y devuelva True si es par, False si no lo es."
   ]
  },
  {
   "cell_type": "code",
   "execution_count": 4,
   "metadata": {},
   "outputs": [
    {
     "data": {
      "text/plain": [
       "'False'"
      ]
     },
     "execution_count": 4,
     "metadata": {},
     "output_type": "execute_result"
    }
   ],
   "source": [
    "def funcion_par_impar(a):\n",
    "    \"\"\"Esta función recibe un número y te indica devolviendo 'True' si es par, y 'False' si es impar\n",
    "\n",
    "    Args:\n",
    "        a (int,float): un numero entero o decimal cualquiera\n",
    "\n",
    "    Returns:\n",
    "        str: True o False\n",
    "    \"\"\"\n",
    "    if a % 2 == 0:\n",
    "        return \"True\"\n",
    "    else:\n",
    "        return \"False\"\n",
    "\n",
    "funcion_par_impar(5.2)"
   ]
  },
  {
   "cell_type": "markdown",
   "metadata": {},
   "source": [
    "#### 4. Escribe un función que devuelva un saludo personalizado a una persona dado su nombre. \n"
   ]
  },
  {
   "cell_type": "code",
   "execution_count": 17,
   "metadata": {},
   "outputs": [
    {
     "name": "stdout",
     "output_type": "stream",
     "text": [
      "Buenas tardes gabriela, son las 13 de la tarde.\n"
     ]
    }
   ],
   "source": [
    "def saludo_personalizado(nombre):\n",
    "    \"\"\"Función que devuelve un nombre personalizado \n",
    "\n",
    "    Args:\n",
    "        nombre (str): nombre\n",
    "    \"\"\"\n",
    "    nombre = input(\"Introduce un nombre: \")\n",
    "    dia = (7, 8, 9, 10, 11, 12)\n",
    "    tarde = (13, 14, 15, 16, 17, 18, 19, 20, 21)\n",
    "    noche = (22, 23, 24, 1, 2, 3, 4, 5, 6)\n",
    "    hora = 13\n",
    "    if hora in dia:\n",
    "        print(f\"Buenos días {nombre}, son las {hora} del día.\")\n",
    "    elif hora in tarde:\n",
    "        print(f\"Buenas tardes {nombre}, son las {hora} de la tarde.\")\n",
    "    else:\n",
    "        print(f\"Hola {nombre}, son las {hora} de la noche. Esto es un recordatorio para acostarse.\")\n",
    "\n",
    "saludo_personalizado(\"nombre\")"
   ]
  },
  {
   "cell_type": "markdown",
   "metadata": {},
   "source": [
    "#### 5. Escribe una función que sume todos los números que reciba como argumento. La función debe recibir una cantidad variable de argumentos y devolver la suma de todos ellos."
   ]
  },
  {
   "cell_type": "code",
   "execution_count": 26,
   "metadata": {},
   "outputs": [
    {
     "name": "stdout",
     "output_type": "stream",
     "text": [
      "15\n"
     ]
    }
   ],
   "source": [
    "def suma_variables(*numeros):\n",
    "    \"\"\"Función que recibe una serie de númers y devuelve la suma de todos ellos.\n",
    "\n",
    "    Returns:\n",
    "        int, float: La suma de los números recibidos\n",
    "    \"\"\"\n",
    "    indice = 0\n",
    "    for numero in numeros:\n",
    "        indice += numero\n",
    "    return indice\n",
    "\n",
    "lista_numeros = [1, 2, 3, 4, 5]\n",
    "print(suma_variables(*lista_numeros)) \n",
    "\n",
    "# Ponemos un asterisco delante de 'lista_numeros' para que la función pueda ir recorriendo elemento a elemento la lista porporcionada #"
   ]
  },
  {
   "cell_type": "markdown",
   "metadata": {},
   "source": [
    "#### 6. Escribe una función que cuente las letras de una palabra y devuelva un diccionario con la cantidad de veces que se repite cada letra \n"
   ]
  },
  {
   "cell_type": "code",
   "execution_count": 14,
   "metadata": {},
   "outputs": [
    {
     "name": "stdout",
     "output_type": "stream",
     "text": [
      "La letra 'H' aparece 1 veces\n",
      "La letra 'o' aparece 1 veces\n",
      "La letra 'l' aparece 1 veces\n",
      "La letra 'a' aparece 2 veces\n"
     ]
    }
   ],
   "source": [
    "def cuenta_palabras():\n",
    "    \"\"\"Función que cuenta las letras de una palabra y devuelve un diccionario con la cantidad de veces que se repite cada letra\n",
    "    \"\"\"\n",
    "    texto = \"Holaa\"\n",
    "    diccionario_letras = {}\n",
    "    \n",
    "    for letra in texto:\n",
    "        if letra not in diccionario_letras:\n",
    "            diccionario_letras[letra] = texto.count(letra)\n",
    "    for letra, cuenta in diccionario_letras.items():\n",
    "        print(f\"La letra '{letra}' aparece {cuenta} veces\")      \n",
    "\n",
    "\n",
    "cuenta_palabras()    "
   ]
  },
  {
   "cell_type": "markdown",
   "metadata": {},
   "source": [
    "#### 7. Escribe un función recursiva para calcular el factorial de un número entero no negativo."
   ]
  },
  {
   "cell_type": "code",
   "execution_count": 22,
   "metadata": {},
   "outputs": [
    {
     "data": {
      "text/plain": [
       "120"
      ]
     },
     "execution_count": 22,
     "metadata": {},
     "output_type": "execute_result"
    }
   ],
   "source": [
    "def función_factorial(numero):\n",
    "    \"\"\"Función que recibe un número entero no negativo y devuelve su factorial.\n",
    "    \"\"\"\n",
    "    numero = int(numero)\n",
    "    \n",
    "    if numero < 0:\n",
    "        return \"Número no válido\"\n",
    "    elif numero == 0 or numero == 1:\n",
    "        return 1\n",
    "    else:\n",
    "        numero_anterior = función_factorial(numero - 1)\n",
    "        resultado = numero * numero_anterior\n",
    "        return resultado\n",
    "\n",
    "# Usamos la definición matemática del factorial para realizar el cálculo: n! = n x (n - 1) #\n",
    "\n",
    "función_factorial(5)"
   ]
  },
  {
   "cell_type": "markdown",
   "metadata": {},
   "source": [
    "#### 8. Escribe una función que tome dos parámetros: `figura` (una cadena que puede ser `\"rectangulo\"`, `\"circulo\"` o `\"triangulo\"`) y `datos` (una tupla con los datos necesarios para calcular el área de la figura). "
   ]
  },
  {
   "cell_type": "code",
   "execution_count": 15,
   "metadata": {},
   "outputs": [
    {
     "name": "stdout",
     "output_type": "stream",
     "text": [
      "El área del círculo es: 113.09724\n"
     ]
    }
   ],
   "source": [
    "def funcion_area(figura, *datos):\n",
    "    \"\"\"Función que calcula el área del triángulo, el círculo y el rectángulo\n",
    "\n",
    "    Args:\n",
    "        figura (str): Figura de la que se quiere calcular el área. Es tipo string.\n",
    "    \"\"\"\n",
    "    if figura == \"rectángulo\":\n",
    "        base, altura = datos\n",
    "        area_rectangulo = base * altura\n",
    "        print(\"El área del rectángulo es:\", area_rectangulo)\n",
    "    elif figura == \"círculo\":\n",
    "        (radio,) = datos \n",
    "        area_circulo = 3.14159 * radio**2\n",
    "        print(\"El área del círculo es:\", area_circulo)\n",
    "    elif figura == \"triángulo\":\n",
    "        base, altura = datos\n",
    "        area_triangulo = (base * altura)/2\n",
    "        print(\"El área del triangulo es:\", area_triangulo)\n",
    "    else:\n",
    "        print(\"Datos introducidos incorrectos\")\n",
    "\n",
    "funcion_area(\"círculo\", 6)   "
   ]
  },
  {
   "cell_type": "markdown",
   "metadata": {},
   "source": [
    "#### 9. Escribe una función que tome una lista de números como parámetro y devuelva el número más grande de la lista. No utilices la función `max()` de Python en tu solución."
   ]
  },
  {
   "cell_type": "code",
   "execution_count": 11,
   "metadata": {},
   "outputs": [
    {
     "name": "stdout",
     "output_type": "stream",
     "text": [
      "5.25\n"
     ]
    }
   ],
   "source": [
    "def maximo_lista(*numeros):\n",
    "    \"\"\"Función que recibe una lista de números y devuelve el número más grande de la lista\n",
    "\n",
    "    Returns:\n",
    "        int,float: El número más alto de la lista\n",
    "    \"\"\"\n",
    "    indice = 0\n",
    "    for numero in numeros:\n",
    "        if indice <= numero:\n",
    "            indice = numero\n",
    "        else:\n",
    "            indice = indice\n",
    "    return indice\n",
    "\n",
    "lista_numeros = [1, 2, 3, 4, 5, 5.25]\n",
    "print(maximo_lista(*lista_numeros)) "
   ]
  },
  {
   "cell_type": "markdown",
   "metadata": {},
   "source": [
    "#### 10. Escribe una función que tome una cadena como parámetro un texto y devuelva `True` si la cadena es un palíndromo (se lee igual de izquierda a derecha que de derecha a izquierda), y `False` en caso contrario. Ignora los espacios y considera mayúsculas y minúsculas de manera insensible.\n"
   ]
  },
  {
   "cell_type": "code",
   "execution_count": 2,
   "metadata": {},
   "outputs": [
    {
     "name": "stdout",
     "output_type": "stream",
     "text": [
      "True\n"
     ]
    }
   ],
   "source": [
    "def funcion_palindromo(texto):\n",
    "    \"\"\"función que recibe una frase y devuelve true o false en función de si la frase es o no palíndromo\n",
    "\n",
    "    Args:\n",
    "        texto (str): frase \n",
    "    \"\"\"\n",
    "    tabla_tildes = str.maketrans(\n",
    "        \"áéíóúÁÉÍÓÚ\",\n",
    "        \"aeiouAEIOU\"\n",
    "    )\n",
    "    texto_minus = texto.lower().replace(\" \", \"\").translate(tabla_tildes)\n",
    "    texto_reverse = texto_minus[::-1]\n",
    "    \n",
    "    if texto_minus == texto_reverse:\n",
    "        print(True)\n",
    "    else:\n",
    "        print(False)\n",
    "\n",
    "        \n",
    "funcion_palindromo(\"Sé verlas al revés\")"
   ]
  },
  {
   "cell_type": "markdown",
   "metadata": {},
   "source": [
    "#### 11. Escribe una función que tome una cadena como parámetro y devuelva dos valores: la cantidad de vocales y la cantidad de consonantes presentes en la cadena. Ignora los espacios y considera mayúsculas y minúsculas de manera insensible.\n"
   ]
  },
  {
   "cell_type": "code",
   "execution_count": 24,
   "metadata": {},
   "outputs": [
    {
     "name": "stdout",
     "output_type": "stream",
     "text": [
      "<class 'int'>\n",
      "<class 'int'>\n",
      "Hay {7} vocales en la frase\n",
      "Hay {12} consonantes en la frase\n"
     ]
    }
   ],
   "source": [
    "def count_vocales_consonantes(frase):\n",
    "    \"\"\"Función que recibe una frase y te devuelve la cantidad de vocales y consonantes que hay en la frase.\n",
    "\n",
    "    Args:\n",
    "        frase (str): frase tipo cadena (string)\n",
    "\n",
    "    Returns:\n",
    "        int: numero de vocales o consonantes en tipo integer\n",
    "    \"\"\"\n",
    "    frase_minuscula = frase.lower()\n",
    "    indice_vocales = 0\n",
    "    indice_consonantes = 0\n",
    "\n",
    "    for letra in frase_minuscula:\n",
    "        if letra == \"a\" or letra == \"e\" or letra == \"i\" or letra == \"o\" or letra == \"u\":\n",
    "            indice_vocales = indice_vocales + 1\n",
    "        elif letra.isalpha():\n",
    "            indice_consonantes = indice_consonantes + 1\n",
    "    return indice_vocales,indice_consonantes\n",
    "\n",
    "frase = str(input(\"Dame una frase\"))\n",
    "vocales, consonantes = count_vocales_consonantes(frase)\n",
    "print(type(vocales))\n",
    "print(type(consonantes))\n",
    "print(f\"Hay\",{vocales},\"vocales en la frase\") \n",
    "print(f\"Hay\",{consonantes},\"consonantes en la frase\") "
   ]
  }
 ],
 "metadata": {
  "kernelspec": {
   "display_name": "hackio",
   "language": "python",
   "name": "python3"
  },
  "language_info": {
   "codemirror_mode": {
    "name": "ipython",
    "version": 3
   },
   "file_extension": ".py",
   "mimetype": "text/x-python",
   "name": "python",
   "nbconvert_exporter": "python",
   "pygments_lexer": "ipython3",
   "version": "3.12.4"
  }
 },
 "nbformat": 4,
 "nbformat_minor": 2
}
